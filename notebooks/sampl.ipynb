{
 "cells": [
  {
   "cell_type": "code",
   "execution_count": null,
   "id": "e387284e",
   "metadata": {},
   "outputs": [],
   "source": [
    "def add(a,b):\n",
    "    return a + b\n",
    "\n",
    "def subtract(a,b):\n",
    "    return a - b\n",
    "\n",
    "def multiply(a,b):\n",
    "    return a * b\n",
    "\n",
    "def divide(a,b):\n",
    "    if b == 0:\n",
    "        return None\n",
    "    return a / b    \n",
    "\n",
    "\n",
    "print(add(5, 3))        # Output: 8\n",
    "print (subtract(5, 3))   # Output: 2\n"
   ]
  }
 ],
 "metadata": {
  "language_info": {
   "name": "python"
  }
 },
 "nbformat": 4,
 "nbformat_minor": 5
}
